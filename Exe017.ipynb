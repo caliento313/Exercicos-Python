{
  "nbformat": 4,
  "nbformat_minor": 0,
  "metadata": {
    "colab": {
      "provenance": [],
      "authorship_tag": "ABX9TyOiCrzhY/xC/qbeQxAWKR+r",
      "include_colab_link": true
    },
    "kernelspec": {
      "name": "python3",
      "display_name": "Python 3"
    },
    "language_info": {
      "name": "python"
    }
  },
  "cells": [
    {
      "cell_type": "markdown",
      "metadata": {
        "id": "view-in-github",
        "colab_type": "text"
      },
      "source": [
        "<a href=\"https://colab.research.google.com/github/caliento313/Exercicos-Python/blob/main/Exe017.ipynb\" target=\"_parent\"><img src=\"https://colab.research.google.com/assets/colab-badge.svg\" alt=\"Open In Colab\"/></a>"
      ]
    },
    {
      "cell_type": "code",
      "execution_count": 6,
      "metadata": {
        "colab": {
          "base_uri": "https://localhost:8080/"
        },
        "id": "8AyhQxm-jW0s",
        "outputId": "e1d98b34-ccf0-4ee3-959b-0c80e1bc505d"
      },
      "outputs": [
        {
          "output_type": "stream",
          "name": "stdout",
          "text": [
            "   Calculadora de Hipotenusa\n",
            "~~~~~~~~~~~~~~~~~~~~~~~~~~~~~~\n",
            "Cateto Oposto: 50\n",
            "Cateto Adjacente: 56\n",
            "A hipotenusa vai medir 75.07\n",
            "~~~~~~~~~~~~~~~~~~~~~~~~~~~~~~\n"
          ]
        }
      ],
      "source": [
        "from math import hypot\n",
        "print ('   Calculadora de Hipotenusa')\n",
        "print('~~'*15)\n",
        "catetOposto = float (input('Cateto Oposto: '))\n",
        "catetAdjacente = float (input('Cateto Adjacente: '))\n",
        "hipotenusa = hypot(catetOposto, catetAdjacente)\n",
        "print ('A hipotenusa vai medir {:.2f}'.format(hipotenusa))\n",
        "print('~~'*15)\n"
      ]
    }
  ]
}