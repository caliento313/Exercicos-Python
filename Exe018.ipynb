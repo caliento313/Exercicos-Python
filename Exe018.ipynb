{
  "nbformat": 4,
  "nbformat_minor": 0,
  "metadata": {
    "colab": {
      "provenance": [],
      "authorship_tag": "ABX9TyOHpKLd9wDxXmAVgLE6blSX",
      "include_colab_link": true
    },
    "kernelspec": {
      "name": "python3",
      "display_name": "Python 3"
    },
    "language_info": {
      "name": "python"
    }
  },
  "cells": [
    {
      "cell_type": "markdown",
      "metadata": {
        "id": "view-in-github",
        "colab_type": "text"
      },
      "source": [
        "<a href=\"https://colab.research.google.com/github/caliento313/Exercicos-Python/blob/main/Exe018.ipynb\" target=\"_parent\"><img src=\"https://colab.research.google.com/assets/colab-badge.svg\" alt=\"Open In Colab\"/></a>"
      ]
    },
    {
      "cell_type": "code",
      "source": [
        "from math import radians,sin,cos,tan\n",
        "print('Calculadora de Angulo para seno')\n",
        "print('~~'*15)\n",
        "\n",
        "while True:\n",
        "      Angulo = float(input('Digite o angulo que deseja calcular: '))\n",
        "      coseno = cos(radians(Angulo))\n",
        "      seno = sin(radians(Angulo))\n",
        "      tangente = tan(radians(Angulo))\n",
        "      print(f'''O angulo de {Angulo} tem o SENO de {seno:.2f}\n",
        "o coseno de {coseno} e a {tangente}''')\n",
        "      resp = str(input('Deseja continuar? [S/N] ')).upper()\n",
        "      if resp == 'N':\n",
        "       break\n",
        "print('FIM')"
      ],
      "metadata": {
        "colab": {
          "base_uri": "https://localhost:8080/"
        },
        "id": "ySLdKZA4lZHD",
        "outputId": "c4a76990-0a6e-4d8e-ce56-87fd4258b441"
      },
      "execution_count": 18,
      "outputs": [
        {
          "output_type": "stream",
          "name": "stdout",
          "text": [
            "Calculadora de Angulo para seno\n",
            "~~~~~~~~~~~~~~~~~~~~~~~~~~~~~~\n",
            "Digite o angulo que deseja calcular: 45\n",
            "O angulo de 45.0 tem o SENO de 0.71\n",
            "o coseno de 0.7071067811865476 e a 0.9999999999999999\n",
            "Deseja continuar? [S/N] s\n",
            "Digite o angulo que deseja calcular: 90\n",
            "O angulo de 90.0 tem o SENO de 1.00\n",
            "o coseno de 6.123233995736766e-17 e a 1.633123935319537e+16\n",
            "Deseja continuar? [S/N] s\n",
            "Digite o angulo que deseja calcular: 120\n",
            "O angulo de 120.0 tem o SENO de 0.87\n",
            "o coseno de -0.4999999999999998 e a -1.7320508075688783\n",
            "Deseja continuar? [S/N] n\n",
            "FIM\n"
          ]
        }
      ]
    }
  ]
}